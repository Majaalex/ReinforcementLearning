{
 "cells": [
  {
   "cell_type": "markdown",
   "metadata": {},
   "source": [
    "https://www.microsoft.com/en-us/research/project/project-malmo/\n",
    "\n",
    "http://gym.openai.com/"
   ]
  },
  {
   "cell_type": "code",
   "execution_count": 1,
   "metadata": {},
   "outputs": [],
   "source": [
    "#pip install gym"
   ]
  },
  {
   "cell_type": "code",
   "execution_count": 2,
   "metadata": {},
   "outputs": [],
   "source": [
    "import numpy as np\n",
    "import matplotlib.pyplot as plt \n",
    "import random\n",
    "import astar as a\n",
    "import maze as Maze\n",
    "import agent as Agent"
   ]
  },
  {
   "cell_type": "code",
   "execution_count": 3,
   "metadata": {},
   "outputs": [],
   "source": [
    "def run_maze(maze, robot, games, max_steps, starting_grid):\n",
    "    moveHistory = []      # keep track of the number of moves.\n",
    "    for i in range(games): # number of games\n",
    "        if i % 1000 == 0:\n",
    "            print(i)      # just to know is running.\n",
    "        while not maze.isGameOver():     # while the game is not over\n",
    "            state, _ = maze.getStateAndReward()   # gets state and reward\n",
    "            action = robot.chooseAction(state, maze.allowedStates[state]) # update the actions\n",
    "            maze.updateMaze(action)\n",
    "            state, reward = maze.getStateAndReward()\n",
    "            robot.updateStateHistory(state, reward)\n",
    "            if maze.steps > max_steps:                  # cut prematurely to avoid infinite looping\n",
    "                x, y = maze.get_matrix().shape\n",
    "                maze.robotPosition = (x - 1, y - 1)\n",
    "        robot.learn()                              # learns\n",
    "        moveHistory.append(maze.steps)             # keep tracking of steps\n",
    "        maze = Maze.Maze(starting_grid)               # resets the maze but not the agent.\n",
    "    return moveHistory"
   ]
  },
  {
   "cell_type": "markdown",
   "metadata": {},
   "source": [
    "# Generate a valid maze"
   ]
  },
  {
   "cell_type": "code",
   "execution_count": 4,
   "metadata": {},
   "outputs": [],
   "source": [
    "## generate matrix\n",
    "def gen_matrix(size, wall_ratio):\n",
    "    size = size\n",
    "    total = size[0] * size[0]\n",
    "    wall_nodes = int(wall_ratio * total) # 1s\n",
    "    path_nodes = total - wall_nodes # 0s\n",
    "\n",
    "    my_list = [0]*path_nodes + [1]*wall_nodes\n",
    "    random.shuffle(my_list)\n",
    "\n",
    "    temp = 0\n",
    "    matrix = np.zeros(size)\n",
    "    start = 0\n",
    "    end = 5\n",
    "    my_list = np.array(my_list)\n",
    "    matrix = my_list.reshape((size))\n",
    "    # Force a start and endnode\n",
    "    matrix[0,0] = 0\n",
    "    matrix[size[0]-1, size[0]-1] = 0\n",
    "    \n",
    "    visited = np.zeros(size, dtype=int)\n",
    "    return matrix, visited"
   ]
  },
  {
   "cell_type": "code",
   "execution_count": 5,
   "metadata": {},
   "outputs": [],
   "source": [
    "def gen_valid_matrix(size, wall_ratio):\n",
    "    matrix = []\n",
    "    res = None\n",
    "    while(res==None):\n",
    "        matrix, visit =  gen_matrix(size, wall_ratio)\n",
    "        walls = [tuple(coord) for coord in np.argwhere(matrix == 1)]\n",
    "        star = a.AStar()\n",
    "        star.init_grid(size[0], \n",
    "                       size[1], \n",
    "                       walls, \n",
    "                       (0,0), \n",
    "                       (size[0]-1, size[0]-1)\n",
    "                      )\n",
    "        res = star.solve()\n",
    "    matrix[0,0] = 2\n",
    "    return matrix"
   ]
  },
  {
   "cell_type": "code",
   "execution_count": 6,
   "metadata": {},
   "outputs": [],
   "source": [
    "input_maze = gen_valid_matrix((10,10), 0.5)"
   ]
  },
  {
   "cell_type": "code",
   "execution_count": 7,
   "metadata": {},
   "outputs": [
    {
     "data": {
      "text/plain": [
       "array([[2, 1, 1, 0, 1, 1, 1, 0, 0, 1],\n",
       "       [0, 0, 1, 1, 1, 1, 0, 1, 0, 1],\n",
       "       [0, 0, 0, 1, 1, 1, 0, 0, 0, 0],\n",
       "       [0, 0, 1, 1, 0, 1, 0, 1, 1, 0],\n",
       "       [0, 1, 1, 1, 1, 1, 1, 1, 1, 1],\n",
       "       [0, 0, 0, 0, 1, 0, 0, 0, 1, 1],\n",
       "       [1, 0, 1, 0, 0, 0, 0, 0, 1, 0],\n",
       "       [1, 0, 1, 1, 0, 0, 1, 0, 1, 0],\n",
       "       [0, 0, 1, 1, 0, 1, 1, 1, 1, 0],\n",
       "       [0, 1, 1, 1, 0, 0, 0, 0, 0, 0]])"
      ]
     },
     "execution_count": 7,
     "metadata": {},
     "output_type": "execute_result"
    }
   ],
   "source": [
    "input_maze"
   ]
  },
  {
   "cell_type": "code",
   "execution_count": 8,
   "metadata": {},
   "outputs": [
    {
     "name": "stdout",
     "output_type": "stream",
     "text": [
      "[2 1 1 0 1 1 1 0 0 1]\n",
      "[0 0 1 1 1 1 0 1 0 1]\n",
      "[0 0 0 1 1 1 0 0 0 0]\n",
      "[0 0 1 1 0 1 0 1 1 0]\n",
      "[0 1 1 1 1 1 1 1 1 1]\n",
      "[0 0 0 0 1 0 0 0 1 1]\n",
      "[1 0 1 0 0 0 0 0 1 0]\n",
      "[1 0 1 1 0 0 1 0 1 0]\n",
      "[0 0 1 1 0 1 1 1 1 0]\n",
      "[0 1 1 1 0 0 0 0 0 0]\n"
     ]
    }
   ],
   "source": [
    "maze = Maze.Maze(input_maze)\n",
    "for y,row in enumerate(maze.get_matrix()):\n",
    "    print(row)"
   ]
  },
  {
   "cell_type": "code",
   "execution_count": 9,
   "metadata": {},
   "outputs": [],
   "source": [
    "maze.constructAllowedStates()"
   ]
  },
  {
   "cell_type": "code",
   "execution_count": null,
   "metadata": {},
   "outputs": [],
   "source": []
  },
  {
   "cell_type": "code",
   "execution_count": null,
   "metadata": {},
   "outputs": [],
   "source": []
  },
  {
   "cell_type": "code",
   "execution_count": null,
   "metadata": {},
   "outputs": [
    {
     "name": "stdout",
     "output_type": "stream",
     "text": [
      "0\n",
      "1000\n",
      "2000\n",
      "3000\n",
      "4000\n"
     ]
    }
   ],
   "source": [
    "input_maze = gen_valid_matrix((10,10), 0.5)\n",
    "maze = Maze.Maze(input_maze)\n",
    "robot = Agent.Agent(maze, alpha=0.01, randomFactor=0.9)\n",
    "history = run_maze(maze, robot, 5000, 5000, input_maze)\n",
    " \n",
    "#maze = Maze.Maze(input_maze)\n",
    "#robot = Agent.Agent(maze, alpha=0.1, randomFactor=0.25)\n",
    "#history_2 = run_maze(maze, robot)"
   ]
  },
  {
   "cell_type": "code",
   "execution_count": null,
   "metadata": {},
   "outputs": [],
   "source": [
    "plt.figure(figsize=(16, 8))\n",
    "plt.subplot(211)\n",
    "plt.semilogy(history, 'b--')\n",
    "plt.legend(['alpha=0.1'])\n"
   ]
  },
  {
   "cell_type": "code",
   "execution_count": null,
   "metadata": {},
   "outputs": [],
   "source": []
  }
 ],
 "metadata": {
  "kernelspec": {
   "display_name": "Python 3",
   "language": "python",
   "name": "python3"
  },
  "language_info": {
   "codemirror_mode": {
    "name": "ipython",
    "version": 3
   },
   "file_extension": ".py",
   "mimetype": "text/x-python",
   "name": "python",
   "nbconvert_exporter": "python",
   "pygments_lexer": "ipython3",
   "version": "3.8.3"
  }
 },
 "nbformat": 4,
 "nbformat_minor": 4
}
